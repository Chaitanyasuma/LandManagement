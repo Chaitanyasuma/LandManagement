{
 "cells": [
  {
   "cell_type": "code",
   "execution_count": 8,
   "metadata": {},
   "outputs": [],
   "source": [
    "from __future__ import division\n",
    "import numpy as np\n",
    "import matplotlib.pyplot as plt\n",
    "from PIL import Image\n",
    "import cv2"
   ]
  },
  {
   "cell_type": "code",
   "execution_count": 9,
   "metadata": {},
   "outputs": [],
   "source": [
    "#read image #not a change\n",
    "img = cv2.imread('C:/Users/Neha/Pictures/Screenshots/Baner Gaon.png')"
   ]
  },
  {
   "cell_type": "code",
   "execution_count": 10,
   "metadata": {},
   "outputs": [],
   "source": [
    "#show image\n",
    "cv2.imshow('image',img)\n",
    "cv2.waitKey(0)\n",
    "cv2.destroyAllWindows()"
   ]
  },
  {
   "cell_type": "code",
   "execution_count": 11,
   "metadata": {},
   "outputs": [],
   "source": [
    "#separate the greens\n",
    "hsv=cv2.cvtColor(img, cv2.COLOR_BGR2HSV)\n",
    "\n",
    "lower_green=np.array([36,0,0])\n",
    "upper_green=np.array([86,255,255])\n",
    "\n",
    "\n",
    "mask=cv2.inRange(img,lower_green,upper_green)\n",
    "res=cv2.bitwise_and(img,img,mask=mask)\n",
    "\n",
    "cv2.imwrite(\"IMAGE_NAME.png\", res)\n",
    "\n",
    "#slice the green\n",
    "imask = mask>0\n",
    "green = np.zeros_like(img, np.uint8)\n",
    "green[imask] = img[imask]\n",
    "\n",
    "#show changes in images\n",
    "cv2.imshow('image',img)\n",
    "cv2.waitKey(0)\n",
    "cv2.destroyAllWindows()\n",
    "\n",
    "cv2.imshow('image',mask)\n",
    "cv2.waitKey(0)\n",
    "cv2.destroyAllWindows()\n",
    "\n",
    "cv2.imshow('image',res)\n",
    "cv2.waitKey(0)\n",
    "cv2.destroyAllWindows()"
   ]
  },
  {
   "cell_type": "code",
   "execution_count": 12,
   "metadata": {},
   "outputs": [
    {
     "name": "stdout",
     "output_type": "stream",
     "text": [
      "brown pixel percentage: 0.0\n"
     ]
    },
    {
     "data": {
      "text/plain": [
       "'# Open image and make into numpy array\\nim=np.array(Image.open(\"IMAGE_NAME.png\").convert(\\'RGB\\'))\\n\\n# Work out what we are looking for\\nsought = [77,72,18]\\n\\n# Find all pixels where the 3 RGB values match \"sought\", and count them\\nresult = np.count_nonzero(np.all(im==sought,axis=2))\\nprint(result)'"
      ]
     },
     "execution_count": 12,
     "metadata": {},
     "output_type": "execute_result"
    }
   ],
   "source": [
    "brown = [77, 72, 18]  #BRG\n",
    "diff = 20\n",
    "boundaries = [([brown[2]-diff, brown[1]-diff, brown[0]-diff],\n",
    "               [brown[2]+diff, brown[1]+diff, brown[0]+diff])]\n",
    "# in order BGR as opencv represents images as numpy arrays in reverse order\n",
    "\n",
    "for (lower, upper) in boundaries:\n",
    "    lower = np.array(lower, dtype=np.uint8)\n",
    "    upper = np.array(upper, dtype=np.uint8)\n",
    "    mask = cv2.inRange(img, lower, upper)\n",
    "    output = cv2.bitwise_and(img, img, mask=mask)\n",
    "\n",
    "    ratio_brown = cv2.countNonZero(mask)/(img.size/3)\n",
    "    print('brown pixel percentage:', np.round(ratio_brown*100, 2))\n",
    "\n",
    "    #cv2.imshow(\"images\", np.hstack([img, output]))\n",
    "    #cv2.waitKey(0)\n",
    "\n",
    "\n",
    "\n",
    "'''# Open image and make into numpy array\n",
    "im=np.array(Image.open(\"IMAGE_NAME.png\").convert('RGB'))\n",
    "\n",
    "# Work out what we are looking for\n",
    "sought = [77,72,18]\n",
    "\n",
    "# Find all pixels where the 3 RGB values match \"sought\", and count them\n",
    "result = np.count_nonzero(np.all(im==sought,axis=2))\n",
    "print(result)'''"
   ]
  },
  {
   "cell_type": "code",
   "execution_count": 35,
   "metadata": {},
   "outputs": [
    {
     "name": "stdout",
     "output_type": "stream",
     "text": [
      "The number of green pixels is 31343\n"
     ]
    }
   ],
   "source": [
    "green_min = np.array([35, 68, 8], np.uint8) #BGR 55,88,28\n",
    "green_max = np.array([], np.uint8) #18,72,77)\n",
    "S\n",
    "\n",
    "dst = cv2.inRange(img, green_min, green_max)\n",
    "num_green = cv2.countNonZero(dst)\n",
    "print('The number of green pixels is ' + str(num_green))"
   ]
  },
  {
   "cell_type": "code",
   "execution_count": 31,
   "metadata": {},
   "outputs": [
    {
     "name": "stdout",
     "output_type": "stream",
     "text": [
      "The densely forested area is: 1448790 sq. metres\n",
      "The densely forested area is: 1407450 sq. metres\n",
      "The densely forested area is: 423390 sq. metres\n"
     ]
    }
   ],
   "source": [
    "dense_area=num_darkgreen*15\n",
    "print ('The densely forested area is: '+ str(dense_area)+' sq. metres' )\n",
    "moderate_area=num_modgreen*15\n",
    "print ('The densely forested area is: '+ str(moderate_area)+' sq. metres' )\n",
    "sparse_area=num_sparsegreen*15\n",
    "print ('The densely forested area is: '+ str(sparse_area)+' sq. metres' )"
   ]
  },
  {
   "cell_type": "code",
   "execution_count": null,
   "metadata": {},
   "outputs": [],
   "source": []
  }
 ],
 "metadata": {
  "kernelspec": {
   "display_name": "Python 3",
   "language": "python",
   "name": "python3"
  },
  "language_info": {
   "codemirror_mode": {
    "name": "ipython",
    "version": 3
   },
   "file_extension": ".py",
   "mimetype": "text/x-python",
   "name": "python",
   "nbconvert_exporter": "python",
   "pygments_lexer": "ipython3",
   "version": "3.6.5"
  }
 },
 "nbformat": 4,
 "nbformat_minor": 2
}
