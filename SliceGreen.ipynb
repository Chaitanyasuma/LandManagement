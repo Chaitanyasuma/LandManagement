{
 "cells": [
  {
   "cell_type": "code",
   "execution_count": 27,
   "metadata": {},
   "outputs": [],
   "source": [
    "from __future__ import division\n",
    "import numpy as np\n",
    "import matplotlib.pyplot as plt\n",
    "from PIL import Image\n",
    "import cv2"
   ]
  },
  {
   "cell_type": "code",
   "execution_count": 28,
   "metadata": {},
   "outputs": [],
   "source": [
    "#read image #not a change\n",
    "img = cv2.imread('C:/Users/Neha/Pictures/Screenshots/Baner Gaon.png')"
   ]
  },
  {
   "cell_type": "code",
   "execution_count": 29,
   "metadata": {},
   "outputs": [],
   "source": [
    "#show image\n",
    "cv2.imshow('image',img)\n",
    "cv2.waitKey(0)\n",
    "cv2.destroyAllWindows()"
   ]
  },
  {
   "cell_type": "code",
   "execution_count": 30,
   "metadata": {},
   "outputs": [],
   "source": [
    "#separate the greens\n",
    "hsv=cv2.cvtColor(img, cv2.COLOR_BGR2HSV)\n",
    "\n",
    "lower_green=np.array([36,0,0])\n",
    "upper_green=np.array([86,255,255])\n",
    "\n",
    "\n",
    "mask=cv2.inRange(img,lower_green,upper_green)\n",
    "res=cv2.bitwise_and(img,img,mask=mask)\n",
    "\n",
    "cv2.imwrite(\"IMAGE_NAME.png\", res)\n",
    "\n",
    "#slice the green\n",
    "imask = mask>0\n",
    "green = np.zeros_like(img, np.uint8)\n",
    "green[imask] = img[imask]\n",
    "\n",
    "#show changes in images\n",
    "cv2.imshow('image',img)\n",
    "cv2.waitKey(0)\n",
    "cv2.destroyAllWindows()\n",
    "\n",
    "cv2.imshow('image',mask)\n",
    "cv2.waitKey(0)\n",
    "cv2.destroyAllWindows()\n",
    "\n",
    "cv2.imshow('image',res)\n",
    "cv2.waitKey(0)\n",
    "cv2.destroyAllWindows()"
   ]
  },
  {
   "cell_type": "code",
   "execution_count": 55,
   "metadata": {},
   "outputs": [
    {
     "name": "stdout",
     "output_type": "stream",
     "text": [
      "The number of green pixels is 52494\n"
     ]
    }
   ],
   "source": [
    "green_min = np.array([35, 68, 8], np.uint8) #BGR 55,88,28\n",
    "green_max = np.array([85,150,28], np.uint8) #18,72,77)\n",
    "\n",
    "dst = cv2.inRange(img, green_min, green_max)\n",
    "num_green = cv2.countNonZero(dst)\n",
    "#print('The number of green pixels is ' + str(num_green))"
   ]
  },
  {
   "cell_type": "code",
   "execution_count": 56,
   "metadata": {},
   "outputs": [
    {
     "name": "stdout",
     "output_type": "stream",
     "text": [
      "The green coverage area is: 787410 sq. metres\n"
     ]
    }
   ],
   "source": [
    "green_area=num_green*15\n",
    "#print ('The green coverage area is: '+ str(green_area)+' sq. metres' )"
   ]
  },
  {
   "cell_type": "code",
   "execution_count": 58,
   "metadata": {},
   "outputs": [
    {
     "name": "stdout",
     "output_type": "stream",
     "text": [
      "2594.311392042225\n"
     ]
    }
   ],
   "source": [
    "carbonemissions=(15^2*num_green*100)/4046.86\n",
    "print (carbonemissions)"
   ]
  },
  {
   "cell_type": "code",
   "execution_count": null,
   "metadata": {},
   "outputs": [],
   "source": []
  }
 ],
 "metadata": {
  "kernelspec": {
   "display_name": "Python 3",
   "language": "python",
   "name": "python3"
  },
  "language_info": {
   "codemirror_mode": {
    "name": "ipython",
    "version": 3
   },
   "file_extension": ".py",
   "mimetype": "text/x-python",
   "name": "python",
   "nbconvert_exporter": "python",
   "pygments_lexer": "ipython3",
   "version": "3.6.5"
  }
 },
 "nbformat": 4,
 "nbformat_minor": 2
}
